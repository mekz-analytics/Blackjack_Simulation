{
 "cells": [
  {
   "attachments": {},
   "cell_type": "markdown",
   "metadata": {},
   "source": [
    "## Blackjack Simulation ## \n",
    "\n",
    "As a Blackjack aficionado, I could not pass up the opportunity to make it the topic of my project. After dinner at a casino, I will inevitably find myself at a table, chasing those little hits of dopamine from winning a hand, losing all sense of time. I usually do fairly well with my own playstyle but let's see if I can play more optimally. \n",
    "\n",
    "### Setting the Scene ###\n",
    "\n",
    "House rules will be according to the Golden Nugget in Lake Charles, Louisiana. It's only 2.5 hours from me in Houston and it's my go to Casino. \n",
    "\n",
    "### Types of Blackjack ###\n",
    "\n",
    "6 deck, double deck, and 6:5 single deck.\n",
    "\n",
    "Dealer has to hit on a soft 17 on minimum takes under $100. \n",
    "-Each of the games will be heads up against the dealer, which I don't play very often but adding in unpredictable other players would be beyond the scope of this project. \n",
    "\n"
   ]
  },
  {
   "attachments": {},
   "cell_type": "markdown",
   "metadata": {},
   "source": [
    "## Prompt ##\n",
    "\n",
    "Programming-Oriented Problems\n",
    "12. (1 member) Let’s gamble! Implement a blackjack simulation; in fact, simulate a few reasonable strategies. Statistically analyze these strategies by playing lots of independent blackjack games. Then determine which choice maximizes your profit. (Assume that the House plays by the usual rules.) Include all code and commentary. Be creative!"
   ]
  },
  {
   "attachments": {},
   "cell_type": "markdown",
   "metadata": {},
   "source": []
  },
  {
   "cell_type": "code",
   "execution_count": 32,
   "metadata": {},
   "outputs": [
    {
     "ename": "SyntaxError",
     "evalue": "invalid syntax (2795508007.py, line 51)",
     "output_type": "error",
     "traceback": [
      "\u001b[1;36m  Input \u001b[1;32mIn [32]\u001b[1;36m\u001b[0m\n\u001b[1;33m    return hand[hand.index('A')] = 'A1'\u001b[0m\n\u001b[1;37m                                 ^\u001b[0m\n\u001b[1;31mSyntaxError\u001b[0m\u001b[1;31m:\u001b[0m invalid syntax\n"
     ]
    }
   ],
   "source": [
    "import random\n",
    "\n",
    "#research when they reshuffle, varies based on the number of decks\n",
    "\n",
    "def create_deck(number_of_decks=1):\n",
    "    #creates a deck of 52 cards and shuffles them, defaults to 1\n",
    "    deck = ['2','3','4','5','6','7','8','9','10','J','Q','K','A']*4*number_of_decks\n",
    "    random.shuffle(deck)\n",
    "    return deck\n",
    "\n",
    "def deal_card(deck, hand):\n",
    "    #def deal_card(deck, hand, number_of_cards=1):  \n",
    "    #deals a card to a single hand, defaults to 1\n",
    "    #for card in range(number_of_cards):\n",
    "    hand.append(deck.pop())\n",
    "    #this technically leads to the dealer dealing from the bottom of the deck, which would get you shot in most Westerns\n",
    "    return hand\n",
    "\n",
    "def hand_sum(hand):\n",
    "    #get it? hand...sum? We make our own fun in this class. \n",
    "    #Calculates the sum of the hand, obviously. \n",
    "    card_vals = {'2': 2, '3': 3, '4': 4, '5': 5, '6': 6, '7': 7, \n",
    "    '8': 8,'9': 9,'10': 10, 'J': 10, 'Q': 10, 'K': 10, 'A': 11, 'A1': 1}\n",
    "    return sum(card_vals[card] for card in hand)\n",
    "\n",
    "def initial_d(deck):\n",
    "    #d stands for deal, I couldn't resist dropping an anime pun in here. \n",
    "    #players gold\n",
    "    \n",
    "    player_hand = []\n",
    "    dealer_hand = []\n",
    "    \n",
    "    #alternate dealing like they would do in a real casino\n",
    "    player_hand = deal_card(deck, player_hand)\n",
    "    dealer_hand = deal_card(deck, dealer_hand)\n",
    "    player_hand = deal_card(deck, player_hand)\n",
    "    dealer_hand = deal_card(deck, dealer_hand)\n",
    "    return player_hand, dealer_hand\n",
    "\n",
    "def blackjack_check(player_hand, dealer_hand):\n",
    "    #checks both hands for blackjack\n",
    "    if hand_sum(player_hand) == 21:\n",
    "        player_blackjack = True\n",
    "    if dealer_hand == 21:\n",
    "        dealer_blackjack = True\n",
    "    return player_blackjack, dealer_blackjack\n",
    "\n",
    "def convert_ace(hand):\n",
    "    #converts aces from 11 to 1:\n",
    "    return hand[hand.index('A')] = 'A1'\n",
    "\n",
    "\n",
    "#def play_a_round(player_strategy, deck):\n",
    "#def dealer_strategy(player_result):\n",
    "\n",
    "#always split Aces and Eights, the blackjack player's maxim\n",
    "obvious_splits = [['A', 'A'], [['8','8']]]\n",
    "\n",
    "\n",
    "\n"
   ]
  },
  {
   "cell_type": "code",
   "execution_count": 104,
   "metadata": {},
   "outputs": [
    {
     "name": "stdout",
     "output_type": "stream",
     "text": [
      "['Q', '6']\n",
      "['Q', '6', 'J']\n"
     ]
    }
   ],
   "source": [
    "deck = create_deck()\n",
    "player_hand, dealer_hand = initial_d(deck)\n",
    "print(dealer_hand)\n",
    "dealer_strategy(dealer_hand, player_hand)\n",
    "print(dealer_hand)\n",
    "\n",
    " "
   ]
  },
  {
   "cell_type": "code",
   "execution_count": 72,
   "metadata": {},
   "outputs": [],
   "source": [
    "def dealer_strategy(dealer_hand, player_hand):\n",
    "    if hand_sum(player_hand) > 21:\n",
    "        return dealer_hand\n",
    "\n",
    "    def deal_until_17(dealer_hand):\n",
    "        dealer_total = hand_sum(dealer_hand)\n",
    "        while dealer_total < 17:\n",
    "            deal_card(deck, dealer_hand)\n",
    "            dealer_total = hand_sum(dealer_hand)\n",
    "        return dealer_hand, dealer_total\n",
    "    \n",
    "    player_total = hand_sum(player_hand)\n",
    "    dealer_total = hand_sum(dealer_hand)\n",
    "    \n",
    "    while dealer_total < 17 or dealer_total > 21:\n",
    "        dealer_hand, dealer_total = deal_until_17(dealer_hand)\n",
    "    \n",
    "        if dealer_total==17 and 'A' in dealer_hand:\n",
    "            convert_ace(dealer_hand)\n",
    "            dealer_hand, dealer_total = deal_until_17(dealer_hand)\n",
    "        elif dealer_total>21 and 'A' in dealer_hand:\n",
    "            convert_ace(dealer_hand)\n",
    "            dealer_hand, dealer_total = deal_until_17(dealer_hand)\n",
    "        else:\n",
    "            break    \n",
    "\n",
    "    return dealer_hand\n"
   ]
  },
  {
   "attachments": {},
   "cell_type": "markdown",
   "metadata": {},
   "source": [
    "Hunter's strategy:\n",
    "-Preoccupied with 10s: assume every incoming card is a 10 and that the dealers down card is a 10. \n"
   ]
  },
  {
   "cell_type": "code",
   "execution_count": 17,
   "metadata": {},
   "outputs": [
    {
     "data": {
      "text/plain": [
       "['5', '7']"
      ]
     },
     "execution_count": 17,
     "metadata": {},
     "output_type": "execute_result"
    }
   ],
   "source": [
    "def hunter_strategy(player_hand, dealer_face_card, deck):\n",
    "    bust_cards = ['6', '5', '4', '3', '2']\n",
    "\n",
    "    player_total = hand_sum(player_hand)\n",
    "\n",
    "    if dealer_face_card in bust_cards:\n",
    "        if player_total <= 11:\n",
    "            deal_card(deck, player_hand)\n",
    "            \n",
    "\n",
    "    return(player_hand)\n",
    "\n",
    "'''\n",
    "\n",
    "\n",
    "#hunter_strategy(player_hand, dealer_hand[0], deck)"
   ]
  },
  {
   "cell_type": "code",
   "execution_count": null,
   "metadata": {},
   "outputs": [],
   "source": []
  }
 ],
 "metadata": {
  "kernelspec": {
   "display_name": "base",
   "language": "python",
   "name": "python3"
  },
  "language_info": {
   "codemirror_mode": {
    "name": "ipython",
    "version": 3
   },
   "file_extension": ".py",
   "mimetype": "text/x-python",
   "name": "python",
   "nbconvert_exporter": "python",
   "pygments_lexer": "ipython3",
   "version": "3.9.12"
  },
  "orig_nbformat": 4,
  "vscode": {
   "interpreter": {
    "hash": "af568c07e00786aad232810176483ceb5e8354f4d3593a3053e682ddad237b38"
   }
  }
 },
 "nbformat": 4,
 "nbformat_minor": 2
}
